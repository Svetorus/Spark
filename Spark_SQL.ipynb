{
  "nbformat": 4,
  "nbformat_minor": 0,
  "metadata": {
    "colab": {
      "name": "Spark_SQL.ipynb",
      "provenance": [],
      "collapsed_sections": [],
      "authorship_tag": "ABX9TyNKghSvC6gAhOc/CRxdxOgv",
      "include_colab_link": true
    },
    "kernelspec": {
      "name": "python3",
      "display_name": "Python 3"
    },
    "language_info": {
      "name": "python"
    }
  },
  "cells": [
    {
      "cell_type": "markdown",
      "metadata": {
        "id": "view-in-github",
        "colab_type": "text"
      },
      "source": [
        "<a href=\"https://colab.research.google.com/github/Svetorus/Spark/blob/main/Spark_SQL.ipynb\" target=\"_parent\"><img src=\"https://colab.research.google.com/assets/colab-badge.svg\" alt=\"Open In Colab\"/></a>"
      ]
    },
    {
      "cell_type": "markdown",
      "source": [
        "# PySpark"
      ],
      "metadata": {
        "id": "7jMw6a3d3gSw"
      }
    },
    {
      "cell_type": "code",
      "source": [
        "!pip install pyspark"
      ],
      "metadata": {
        "colab": {
          "base_uri": "https://localhost:8080/"
        },
        "id": "wi2mosrvdhaA",
        "outputId": "ca7faa97-05aa-47b3-a258-e2d73ab72c13"
      },
      "execution_count": 1,
      "outputs": [
        {
          "output_type": "stream",
          "name": "stdout",
          "text": [
            "Looking in indexes: https://pypi.org/simple, https://us-python.pkg.dev/colab-wheels/public/simple/\n",
            "Collecting pyspark\n",
            "  Downloading pyspark-3.3.0.tar.gz (281.3 MB)\n",
            "\u001b[K     |████████████████████████████████| 281.3 MB 53 kB/s \n",
            "\u001b[?25hCollecting py4j==0.10.9.5\n",
            "  Downloading py4j-0.10.9.5-py2.py3-none-any.whl (199 kB)\n",
            "\u001b[K     |████████████████████████████████| 199 kB 80.4 MB/s \n",
            "\u001b[?25hBuilding wheels for collected packages: pyspark\n",
            "  Building wheel for pyspark (setup.py) ... \u001b[?25l\u001b[?25hdone\n",
            "  Created wheel for pyspark: filename=pyspark-3.3.0-py2.py3-none-any.whl size=281764026 sha256=7fc8fd0ceffeff588efd460fcc97b2aabb8b99d59a12d91cab3e73c3d394b218\n",
            "  Stored in directory: /root/.cache/pip/wheels/7a/8e/1b/f73a52650d2e5f337708d9f6a1750d451a7349a867f928b885\n",
            "Successfully built pyspark\n",
            "Installing collected packages: py4j, pyspark\n",
            "Successfully installed py4j-0.10.9.5 pyspark-3.3.0\n"
          ]
        }
      ]
    },
    {
      "cell_type": "code",
      "source": [
        "!apt-get install openjdk-8-jdk-headless -qq > /dev/null"
      ],
      "metadata": {
        "id": "hmutfbIJhwtW"
      },
      "execution_count": 2,
      "outputs": []
    },
    {
      "cell_type": "code",
      "source": [
        "!wget -q https://archive.apache.org/dist/spark/spark-3.0.0/spark-3.0.0-bin-hadoop3.2.tgz"
      ],
      "metadata": {
        "id": "CQKp8IgmhIvB"
      },
      "execution_count": 3,
      "outputs": []
    },
    {
      "cell_type": "code",
      "source": [
        "!tar xf spark-3.0.0-bin-hadoop3.2.tgz"
      ],
      "metadata": {
        "id": "QmmDUPSgiWyN"
      },
      "execution_count": 4,
      "outputs": []
    },
    {
      "cell_type": "code",
      "source": [
        "import os\n",
        "os.environ[\"JAVA_HOME\"] = \"/usr/lib/jvm/java-8-openjdk-amd64\"\n",
        "os.environ[\"SPARK_HOME\"] = \"/content/spark-3.0.0-bin-hadoop3.2\""
      ],
      "metadata": {
        "id": "DU90LNuIhOdc"
      },
      "execution_count": 5,
      "outputs": []
    },
    {
      "cell_type": "code",
      "source": [
        "!pip install -q findspark"
      ],
      "metadata": {
        "id": "u-tjpp4NiGrk"
      },
      "execution_count": 6,
      "outputs": []
    },
    {
      "cell_type": "code",
      "source": [
        "import findspark\n",
        "findspark.init()"
      ],
      "metadata": {
        "id": "mykpTgskjXZ0"
      },
      "execution_count": 7,
      "outputs": []
    },
    {
      "cell_type": "code",
      "source": [
        "from pyspark.sql import SparkSession\n",
        "spark = SparkSession.builder.master(\"local[*]\").getOrCreate()"
      ],
      "metadata": {
        "id": "iT0zJq15gBTI"
      },
      "execution_count": 8,
      "outputs": []
    },
    {
      "cell_type": "code",
      "execution_count": 9,
      "metadata": {
        "id": "5nJivbD0UsnA"
      },
      "outputs": [],
      "source": [
        "# библиотеки\n",
        "import pandas as pd\n",
        "import numpy as np\n",
        "from google.colab import files"
      ]
    },
    {
      "cell_type": "code",
      "source": [
        "# загрузка из компа в google colab\n",
        "uploaded = files.upload()"
      ],
      "metadata": {
        "colab": {
          "resources": {
            "http://localhost:8080/nbextensions/google.colab/files.js": {
              "data": "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",
              "ok": true,
              "headers": [
                [
                  "content-type",
                  "application/javascript"
                ]
              ],
              "status": 200,
              "status_text": ""
            }
          },
          "base_uri": "https://localhost:8080/",
          "height": 73
        },
        "id": "2d8yo58wUu0D",
        "outputId": "10004d01-85ef-42e4-8bad-9b6bb2633b9e"
      },
      "execution_count": 10,
      "outputs": [
        {
          "output_type": "display_data",
          "data": {
            "text/plain": [
              "<IPython.core.display.HTML object>"
            ],
            "text/html": [
              "\n",
              "     <input type=\"file\" id=\"files-43845722-164a-4ac6-a709-9d7ace285d33\" name=\"files[]\" multiple disabled\n",
              "        style=\"border:none\" />\n",
              "     <output id=\"result-43845722-164a-4ac6-a709-9d7ace285d33\">\n",
              "      Upload widget is only available when the cell has been executed in the\n",
              "      current browser session. Please rerun this cell to enable.\n",
              "      </output>\n",
              "      <script src=\"/nbextensions/google.colab/files.js\"></script> "
            ]
          },
          "metadata": {}
        },
        {
          "output_type": "stream",
          "name": "stdout",
          "text": [
            "Saving owid-covid-data.csv to owid-covid-data.csv\n"
          ]
        }
      ]
    },
    {
      "cell_type": "code",
      "source": [
        "# библиотеки SPARK\n",
        "import pyspark\n",
        "df_spark = spark.read.option('interSchema','true').option('header','true').csv('owid-covid-data.csv')\n",
        "# df = spark.read.csv('owid-covid-data.csv',header=True)\n",
        "\n",
        "from pyspark.sql.functions import col,lit,lag,round,max\n",
        "from pyspark.sql.types import IntegerType\n",
        "import pyspark.sql.functions as func\n",
        "from pyspark.sql.window import Window\n",
        "from pyspark.sql import functions as F"
      ],
      "metadata": {
        "id": "bol5IFwI3bpk"
      },
      "execution_count": 11,
      "outputs": []
    },
    {
      "cell_type": "code",
      "source": [
        "# df_spark.printSchema()"
      ],
      "metadata": {
        "id": "uBJKbAHltL-o"
      },
      "execution_count": null,
      "outputs": []
    },
    {
      "cell_type": "markdown",
      "source": [
        "# *Pandas*"
      ],
      "metadata": {
        "id": "F7t-VU5w3JWU"
      }
    },
    {
      "cell_type": "code",
      "source": [
        "covid = pd.read_csv('owid-covid-data.csv')\n",
        "covid.head(3)"
      ],
      "metadata": {
        "id": "j2QZlNIxUxOS",
        "colab": {
          "base_uri": "https://localhost:8080/",
          "height": 289
        },
        "outputId": "dd67e5cf-76fe-4347-ef1d-7353c10a0bdf"
      },
      "execution_count": 13,
      "outputs": [
        {
          "output_type": "execute_result",
          "data": {
            "text/plain": [
              "  iso_code continent     location        date  total_cases  new_cases  \\\n",
              "0      AFG      Asia  Afghanistan  2020-02-24          1.0        1.0   \n",
              "1      AFG      Asia  Afghanistan  2020-02-25          1.0        0.0   \n",
              "2      AFG      Asia  Afghanistan  2020-02-26          1.0        0.0   \n",
              "\n",
              "   new_cases_smoothed  total_deaths  new_deaths  new_deaths_smoothed  ...  \\\n",
              "0                 NaN           NaN         NaN                  NaN  ...   \n",
              "1                 NaN           NaN         NaN                  NaN  ...   \n",
              "2                 NaN           NaN         NaN                  NaN  ...   \n",
              "\n",
              "   gdp_per_capita  extreme_poverty  cardiovasc_death_rate  \\\n",
              "0        1803.987              NaN                597.029   \n",
              "1        1803.987              NaN                597.029   \n",
              "2        1803.987              NaN                597.029   \n",
              "\n",
              "   diabetes_prevalence  female_smokers  male_smokers  handwashing_facilities  \\\n",
              "0                 9.59             NaN           NaN                  37.746   \n",
              "1                 9.59             NaN           NaN                  37.746   \n",
              "2                 9.59             NaN           NaN                  37.746   \n",
              "\n",
              "   hospital_beds_per_thousand  life_expectancy  human_development_index  \n",
              "0                         0.5            64.83                    0.511  \n",
              "1                         0.5            64.83                    0.511  \n",
              "2                         0.5            64.83                    0.511  \n",
              "\n",
              "[3 rows x 59 columns]"
            ],
            "text/html": [
              "\n",
              "  <div id=\"df-f81b46b8-dcdf-499c-902a-459adaa8c3de\">\n",
              "    <div class=\"colab-df-container\">\n",
              "      <div>\n",
              "<style scoped>\n",
              "    .dataframe tbody tr th:only-of-type {\n",
              "        vertical-align: middle;\n",
              "    }\n",
              "\n",
              "    .dataframe tbody tr th {\n",
              "        vertical-align: top;\n",
              "    }\n",
              "\n",
              "    .dataframe thead th {\n",
              "        text-align: right;\n",
              "    }\n",
              "</style>\n",
              "<table border=\"1\" class=\"dataframe\">\n",
              "  <thead>\n",
              "    <tr style=\"text-align: right;\">\n",
              "      <th></th>\n",
              "      <th>iso_code</th>\n",
              "      <th>continent</th>\n",
              "      <th>location</th>\n",
              "      <th>date</th>\n",
              "      <th>total_cases</th>\n",
              "      <th>new_cases</th>\n",
              "      <th>new_cases_smoothed</th>\n",
              "      <th>total_deaths</th>\n",
              "      <th>new_deaths</th>\n",
              "      <th>new_deaths_smoothed</th>\n",
              "      <th>...</th>\n",
              "      <th>gdp_per_capita</th>\n",
              "      <th>extreme_poverty</th>\n",
              "      <th>cardiovasc_death_rate</th>\n",
              "      <th>diabetes_prevalence</th>\n",
              "      <th>female_smokers</th>\n",
              "      <th>male_smokers</th>\n",
              "      <th>handwashing_facilities</th>\n",
              "      <th>hospital_beds_per_thousand</th>\n",
              "      <th>life_expectancy</th>\n",
              "      <th>human_development_index</th>\n",
              "    </tr>\n",
              "  </thead>\n",
              "  <tbody>\n",
              "    <tr>\n",
              "      <th>0</th>\n",
              "      <td>AFG</td>\n",
              "      <td>Asia</td>\n",
              "      <td>Afghanistan</td>\n",
              "      <td>2020-02-24</td>\n",
              "      <td>1.0</td>\n",
              "      <td>1.0</td>\n",
              "      <td>NaN</td>\n",
              "      <td>NaN</td>\n",
              "      <td>NaN</td>\n",
              "      <td>NaN</td>\n",
              "      <td>...</td>\n",
              "      <td>1803.987</td>\n",
              "      <td>NaN</td>\n",
              "      <td>597.029</td>\n",
              "      <td>9.59</td>\n",
              "      <td>NaN</td>\n",
              "      <td>NaN</td>\n",
              "      <td>37.746</td>\n",
              "      <td>0.5</td>\n",
              "      <td>64.83</td>\n",
              "      <td>0.511</td>\n",
              "    </tr>\n",
              "    <tr>\n",
              "      <th>1</th>\n",
              "      <td>AFG</td>\n",
              "      <td>Asia</td>\n",
              "      <td>Afghanistan</td>\n",
              "      <td>2020-02-25</td>\n",
              "      <td>1.0</td>\n",
              "      <td>0.0</td>\n",
              "      <td>NaN</td>\n",
              "      <td>NaN</td>\n",
              "      <td>NaN</td>\n",
              "      <td>NaN</td>\n",
              "      <td>...</td>\n",
              "      <td>1803.987</td>\n",
              "      <td>NaN</td>\n",
              "      <td>597.029</td>\n",
              "      <td>9.59</td>\n",
              "      <td>NaN</td>\n",
              "      <td>NaN</td>\n",
              "      <td>37.746</td>\n",
              "      <td>0.5</td>\n",
              "      <td>64.83</td>\n",
              "      <td>0.511</td>\n",
              "    </tr>\n",
              "    <tr>\n",
              "      <th>2</th>\n",
              "      <td>AFG</td>\n",
              "      <td>Asia</td>\n",
              "      <td>Afghanistan</td>\n",
              "      <td>2020-02-26</td>\n",
              "      <td>1.0</td>\n",
              "      <td>0.0</td>\n",
              "      <td>NaN</td>\n",
              "      <td>NaN</td>\n",
              "      <td>NaN</td>\n",
              "      <td>NaN</td>\n",
              "      <td>...</td>\n",
              "      <td>1803.987</td>\n",
              "      <td>NaN</td>\n",
              "      <td>597.029</td>\n",
              "      <td>9.59</td>\n",
              "      <td>NaN</td>\n",
              "      <td>NaN</td>\n",
              "      <td>37.746</td>\n",
              "      <td>0.5</td>\n",
              "      <td>64.83</td>\n",
              "      <td>0.511</td>\n",
              "    </tr>\n",
              "  </tbody>\n",
              "</table>\n",
              "<p>3 rows × 59 columns</p>\n",
              "</div>\n",
              "      <button class=\"colab-df-convert\" onclick=\"convertToInteractive('df-f81b46b8-dcdf-499c-902a-459adaa8c3de')\"\n",
              "              title=\"Convert this dataframe to an interactive table.\"\n",
              "              style=\"display:none;\">\n",
              "        \n",
              "  <svg xmlns=\"http://www.w3.org/2000/svg\" height=\"24px\"viewBox=\"0 0 24 24\"\n",
              "       width=\"24px\">\n",
              "    <path d=\"M0 0h24v24H0V0z\" fill=\"none\"/>\n",
              "    <path d=\"M18.56 5.44l.94 2.06.94-2.06 2.06-.94-2.06-.94-.94-2.06-.94 2.06-2.06.94zm-11 1L8.5 8.5l.94-2.06 2.06-.94-2.06-.94L8.5 2.5l-.94 2.06-2.06.94zm10 10l.94 2.06.94-2.06 2.06-.94-2.06-.94-.94-2.06-.94 2.06-2.06.94z\"/><path d=\"M17.41 7.96l-1.37-1.37c-.4-.4-.92-.59-1.43-.59-.52 0-1.04.2-1.43.59L10.3 9.45l-7.72 7.72c-.78.78-.78 2.05 0 2.83L4 21.41c.39.39.9.59 1.41.59.51 0 1.02-.2 1.41-.59l7.78-7.78 2.81-2.81c.8-.78.8-2.07 0-2.86zM5.41 20L4 18.59l7.72-7.72 1.47 1.35L5.41 20z\"/>\n",
              "  </svg>\n",
              "      </button>\n",
              "      \n",
              "  <style>\n",
              "    .colab-df-container {\n",
              "      display:flex;\n",
              "      flex-wrap:wrap;\n",
              "      gap: 12px;\n",
              "    }\n",
              "\n",
              "    .colab-df-convert {\n",
              "      background-color: #E8F0FE;\n",
              "      border: none;\n",
              "      border-radius: 50%;\n",
              "      cursor: pointer;\n",
              "      display: none;\n",
              "      fill: #1967D2;\n",
              "      height: 32px;\n",
              "      padding: 0 0 0 0;\n",
              "      width: 32px;\n",
              "    }\n",
              "\n",
              "    .colab-df-convert:hover {\n",
              "      background-color: #E2EBFA;\n",
              "      box-shadow: 0px 1px 2px rgba(60, 64, 67, 0.3), 0px 1px 3px 1px rgba(60, 64, 67, 0.15);\n",
              "      fill: #174EA6;\n",
              "    }\n",
              "\n",
              "    [theme=dark] .colab-df-convert {\n",
              "      background-color: #3B4455;\n",
              "      fill: #D2E3FC;\n",
              "    }\n",
              "\n",
              "    [theme=dark] .colab-df-convert:hover {\n",
              "      background-color: #434B5C;\n",
              "      box-shadow: 0px 1px 3px 1px rgba(0, 0, 0, 0.15);\n",
              "      filter: drop-shadow(0px 1px 2px rgba(0, 0, 0, 0.3));\n",
              "      fill: #FFFFFF;\n",
              "    }\n",
              "  </style>\n",
              "\n",
              "      <script>\n",
              "        const buttonEl =\n",
              "          document.querySelector('#df-f81b46b8-dcdf-499c-902a-459adaa8c3de button.colab-df-convert');\n",
              "        buttonEl.style.display =\n",
              "          google.colab.kernel.accessAllowed ? 'block' : 'none';\n",
              "\n",
              "        async function convertToInteractive(key) {\n",
              "          const element = document.querySelector('#df-f81b46b8-dcdf-499c-902a-459adaa8c3de');\n",
              "          const dataTable =\n",
              "            await google.colab.kernel.invokeFunction('convertToInteractive',\n",
              "                                                     [key], {});\n",
              "          if (!dataTable) return;\n",
              "\n",
              "          const docLinkHtml = 'Like what you see? Visit the ' +\n",
              "            '<a target=\"_blank\" href=https://colab.research.google.com/notebooks/data_table.ipynb>data table notebook</a>'\n",
              "            + ' to learn more about interactive tables.';\n",
              "          element.innerHTML = '';\n",
              "          dataTable['output_type'] = 'display_data';\n",
              "          await google.colab.output.renderOutput(dataTable, element);\n",
              "          const docLink = document.createElement('div');\n",
              "          docLink.innerHTML = docLinkHtml;\n",
              "          element.appendChild(docLink);\n",
              "        }\n",
              "      </script>\n",
              "    </div>\n",
              "  </div>\n",
              "  "
            ]
          },
          "metadata": {},
          "execution_count": 13
        }
      ]
    },
    {
      "cell_type": "code",
      "source": [
        "covid.columns"
      ],
      "metadata": {
        "id": "6yO-y9lsZcT6",
        "colab": {
          "base_uri": "https://localhost:8080/"
        },
        "outputId": "0c57f887-191b-4375-cd3e-ba53b920b15b"
      },
      "execution_count": null,
      "outputs": [
        {
          "output_type": "execute_result",
          "data": {
            "text/plain": [
              "Index(['iso_code', 'continent', 'location', 'date', 'total_cases', 'new_cases',\n",
              "       'new_cases_smoothed', 'total_deaths', 'new_deaths',\n",
              "       'new_deaths_smoothed', 'total_cases_per_million',\n",
              "       'new_cases_per_million', 'new_cases_smoothed_per_million',\n",
              "       'total_deaths_per_million', 'new_deaths_per_million',\n",
              "       'new_deaths_smoothed_per_million', 'reproduction_rate', 'icu_patients',\n",
              "       'icu_patients_per_million', 'hosp_patients',\n",
              "       'hosp_patients_per_million', 'weekly_icu_admissions',\n",
              "       'weekly_icu_admissions_per_million', 'weekly_hosp_admissions',\n",
              "       'weekly_hosp_admissions_per_million', 'new_tests', 'total_tests',\n",
              "       'total_tests_per_thousand', 'new_tests_per_thousand',\n",
              "       'new_tests_smoothed', 'new_tests_smoothed_per_thousand',\n",
              "       'positive_rate', 'tests_per_case', 'tests_units', 'total_vaccinations',\n",
              "       'people_vaccinated', 'people_fully_vaccinated', 'new_vaccinations',\n",
              "       'new_vaccinations_smoothed', 'total_vaccinations_per_hundred',\n",
              "       'people_vaccinated_per_hundred', 'people_fully_vaccinated_per_hundred',\n",
              "       'new_vaccinations_smoothed_per_million', 'stringency_index',\n",
              "       'population', 'population_density', 'median_age', 'aged_65_older',\n",
              "       'aged_70_older', 'gdp_per_capita', 'extreme_poverty',\n",
              "       'cardiovasc_death_rate', 'diabetes_prevalence', 'female_smokers',\n",
              "       'male_smokers', 'handwashing_facilities', 'hospital_beds_per_thousand',\n",
              "       'life_expectancy', 'human_development_index'],\n",
              "      dtype='object')"
            ]
          },
          "metadata": {},
          "execution_count": 7
        }
      ]
    },
    {
      "cell_type": "markdown",
      "source": [
        "# 1. Выберите 15 стран с наибольшим процентом переболевших на 31 марта (в выходящем датасете необходимы колонки: iso_code, страна, процент переболевших)  \n",
        "### *Pandas*"
      ],
      "metadata": {
        "id": "XxsdJFi6j3Xt"
      }
    },
    {
      "cell_type": "code",
      "source": [
        "covid['recovered'] = covid['total_cases'] * 100 / covid['population']\n",
        "covid['recovered'] = covid['recovered'].round(2)\n",
        "covid[['iso_code','location','recovered']].loc[covid['date']=='2021-03-31',]\\\n",
        "  .nlargest(15, 'recovered')"
      ],
      "metadata": {
        "id": "I3cL4hKXWTbh",
        "colab": {
          "base_uri": "https://localhost:8080/",
          "height": 520
        },
        "outputId": "42d35580-c05e-4aac-b3ec-4c6c8584d3bd"
      },
      "execution_count": null,
      "outputs": [
        {
          "output_type": "execute_result",
          "data": {
            "text/plain": [
              "      iso_code       location  recovered\n",
              "2079       AND        Andorra      15.54\n",
              "49948      MNE     Montenegro      14.52\n",
              "19623      CZE        Czechia      14.31\n",
              "63600      SMR     San Marino      13.94\n",
              "67304      SVN       Slovenia      10.37\n",
              "44270      LUX     Luxembourg       9.85\n",
              "36842      ISR         Israel       9.63\n",
              "78438      USA  United States       9.20\n",
              "65221      SRB         Serbia       8.83\n",
              "6376       BHR        Bahrain       8.49\n",
              "57579      PAN         Panama       8.23\n",
              "60119      PRT       Portugal       8.06\n",
              "24115      EST        Estonia       8.02\n",
              "71711      SWE         Sweden       7.97\n",
              "43851      LTU      Lithuania       7.94"
            ],
            "text/html": [
              "\n",
              "  <div id=\"df-4738a0f8-6e06-43e9-bdc6-b53eeb26a6b1\">\n",
              "    <div class=\"colab-df-container\">\n",
              "      <div>\n",
              "<style scoped>\n",
              "    .dataframe tbody tr th:only-of-type {\n",
              "        vertical-align: middle;\n",
              "    }\n",
              "\n",
              "    .dataframe tbody tr th {\n",
              "        vertical-align: top;\n",
              "    }\n",
              "\n",
              "    .dataframe thead th {\n",
              "        text-align: right;\n",
              "    }\n",
              "</style>\n",
              "<table border=\"1\" class=\"dataframe\">\n",
              "  <thead>\n",
              "    <tr style=\"text-align: right;\">\n",
              "      <th></th>\n",
              "      <th>iso_code</th>\n",
              "      <th>location</th>\n",
              "      <th>recovered</th>\n",
              "    </tr>\n",
              "  </thead>\n",
              "  <tbody>\n",
              "    <tr>\n",
              "      <th>2079</th>\n",
              "      <td>AND</td>\n",
              "      <td>Andorra</td>\n",
              "      <td>15.54</td>\n",
              "    </tr>\n",
              "    <tr>\n",
              "      <th>49948</th>\n",
              "      <td>MNE</td>\n",
              "      <td>Montenegro</td>\n",
              "      <td>14.52</td>\n",
              "    </tr>\n",
              "    <tr>\n",
              "      <th>19623</th>\n",
              "      <td>CZE</td>\n",
              "      <td>Czechia</td>\n",
              "      <td>14.31</td>\n",
              "    </tr>\n",
              "    <tr>\n",
              "      <th>63600</th>\n",
              "      <td>SMR</td>\n",
              "      <td>San Marino</td>\n",
              "      <td>13.94</td>\n",
              "    </tr>\n",
              "    <tr>\n",
              "      <th>67304</th>\n",
              "      <td>SVN</td>\n",
              "      <td>Slovenia</td>\n",
              "      <td>10.37</td>\n",
              "    </tr>\n",
              "    <tr>\n",
              "      <th>44270</th>\n",
              "      <td>LUX</td>\n",
              "      <td>Luxembourg</td>\n",
              "      <td>9.85</td>\n",
              "    </tr>\n",
              "    <tr>\n",
              "      <th>36842</th>\n",
              "      <td>ISR</td>\n",
              "      <td>Israel</td>\n",
              "      <td>9.63</td>\n",
              "    </tr>\n",
              "    <tr>\n",
              "      <th>78438</th>\n",
              "      <td>USA</td>\n",
              "      <td>United States</td>\n",
              "      <td>9.20</td>\n",
              "    </tr>\n",
              "    <tr>\n",
              "      <th>65221</th>\n",
              "      <td>SRB</td>\n",
              "      <td>Serbia</td>\n",
              "      <td>8.83</td>\n",
              "    </tr>\n",
              "    <tr>\n",
              "      <th>6376</th>\n",
              "      <td>BHR</td>\n",
              "      <td>Bahrain</td>\n",
              "      <td>8.49</td>\n",
              "    </tr>\n",
              "    <tr>\n",
              "      <th>57579</th>\n",
              "      <td>PAN</td>\n",
              "      <td>Panama</td>\n",
              "      <td>8.23</td>\n",
              "    </tr>\n",
              "    <tr>\n",
              "      <th>60119</th>\n",
              "      <td>PRT</td>\n",
              "      <td>Portugal</td>\n",
              "      <td>8.06</td>\n",
              "    </tr>\n",
              "    <tr>\n",
              "      <th>24115</th>\n",
              "      <td>EST</td>\n",
              "      <td>Estonia</td>\n",
              "      <td>8.02</td>\n",
              "    </tr>\n",
              "    <tr>\n",
              "      <th>71711</th>\n",
              "      <td>SWE</td>\n",
              "      <td>Sweden</td>\n",
              "      <td>7.97</td>\n",
              "    </tr>\n",
              "    <tr>\n",
              "      <th>43851</th>\n",
              "      <td>LTU</td>\n",
              "      <td>Lithuania</td>\n",
              "      <td>7.94</td>\n",
              "    </tr>\n",
              "  </tbody>\n",
              "</table>\n",
              "</div>\n",
              "      <button class=\"colab-df-convert\" onclick=\"convertToInteractive('df-4738a0f8-6e06-43e9-bdc6-b53eeb26a6b1')\"\n",
              "              title=\"Convert this dataframe to an interactive table.\"\n",
              "              style=\"display:none;\">\n",
              "        \n",
              "  <svg xmlns=\"http://www.w3.org/2000/svg\" height=\"24px\"viewBox=\"0 0 24 24\"\n",
              "       width=\"24px\">\n",
              "    <path d=\"M0 0h24v24H0V0z\" fill=\"none\"/>\n",
              "    <path d=\"M18.56 5.44l.94 2.06.94-2.06 2.06-.94-2.06-.94-.94-2.06-.94 2.06-2.06.94zm-11 1L8.5 8.5l.94-2.06 2.06-.94-2.06-.94L8.5 2.5l-.94 2.06-2.06.94zm10 10l.94 2.06.94-2.06 2.06-.94-2.06-.94-.94-2.06-.94 2.06-2.06.94z\"/><path d=\"M17.41 7.96l-1.37-1.37c-.4-.4-.92-.59-1.43-.59-.52 0-1.04.2-1.43.59L10.3 9.45l-7.72 7.72c-.78.78-.78 2.05 0 2.83L4 21.41c.39.39.9.59 1.41.59.51 0 1.02-.2 1.41-.59l7.78-7.78 2.81-2.81c.8-.78.8-2.07 0-2.86zM5.41 20L4 18.59l7.72-7.72 1.47 1.35L5.41 20z\"/>\n",
              "  </svg>\n",
              "      </button>\n",
              "      \n",
              "  <style>\n",
              "    .colab-df-container {\n",
              "      display:flex;\n",
              "      flex-wrap:wrap;\n",
              "      gap: 12px;\n",
              "    }\n",
              "\n",
              "    .colab-df-convert {\n",
              "      background-color: #E8F0FE;\n",
              "      border: none;\n",
              "      border-radius: 50%;\n",
              "      cursor: pointer;\n",
              "      display: none;\n",
              "      fill: #1967D2;\n",
              "      height: 32px;\n",
              "      padding: 0 0 0 0;\n",
              "      width: 32px;\n",
              "    }\n",
              "\n",
              "    .colab-df-convert:hover {\n",
              "      background-color: #E2EBFA;\n",
              "      box-shadow: 0px 1px 2px rgba(60, 64, 67, 0.3), 0px 1px 3px 1px rgba(60, 64, 67, 0.15);\n",
              "      fill: #174EA6;\n",
              "    }\n",
              "\n",
              "    [theme=dark] .colab-df-convert {\n",
              "      background-color: #3B4455;\n",
              "      fill: #D2E3FC;\n",
              "    }\n",
              "\n",
              "    [theme=dark] .colab-df-convert:hover {\n",
              "      background-color: #434B5C;\n",
              "      box-shadow: 0px 1px 3px 1px rgba(0, 0, 0, 0.15);\n",
              "      filter: drop-shadow(0px 1px 2px rgba(0, 0, 0, 0.3));\n",
              "      fill: #FFFFFF;\n",
              "    }\n",
              "  </style>\n",
              "\n",
              "      <script>\n",
              "        const buttonEl =\n",
              "          document.querySelector('#df-4738a0f8-6e06-43e9-bdc6-b53eeb26a6b1 button.colab-df-convert');\n",
              "        buttonEl.style.display =\n",
              "          google.colab.kernel.accessAllowed ? 'block' : 'none';\n",
              "\n",
              "        async function convertToInteractive(key) {\n",
              "          const element = document.querySelector('#df-4738a0f8-6e06-43e9-bdc6-b53eeb26a6b1');\n",
              "          const dataTable =\n",
              "            await google.colab.kernel.invokeFunction('convertToInteractive',\n",
              "                                                     [key], {});\n",
              "          if (!dataTable) return;\n",
              "\n",
              "          const docLinkHtml = 'Like what you see? Visit the ' +\n",
              "            '<a target=\"_blank\" href=https://colab.research.google.com/notebooks/data_table.ipynb>data table notebook</a>'\n",
              "            + ' to learn more about interactive tables.';\n",
              "          element.innerHTML = '';\n",
              "          dataTable['output_type'] = 'display_data';\n",
              "          await google.colab.output.renderOutput(dataTable, element);\n",
              "          const docLink = document.createElement('div');\n",
              "          docLink.innerHTML = docLinkHtml;\n",
              "          element.appendChild(docLink);\n",
              "        }\n",
              "      </script>\n",
              "    </div>\n",
              "  </div>\n",
              "  "
            ]
          },
          "metadata": {},
          "execution_count": 13
        }
      ]
    },
    {
      "cell_type": "markdown",
      "source": [
        "### PySpark"
      ],
      "metadata": {
        "id": "Im7CjgDs2ocz"
      }
    },
    {
      "cell_type": "code",
      "source": [
        "df_spark.filter( (col('date') == lit('2021-03-31')) )\\\n",
        "  .withColumn(\"int_total_cases\", col(\"total_cases\").cast(IntegerType()))\\\n",
        "  .withColumn(\"int_population\", col(\"population\").cast(IntegerType()))\\\n",
        "  .withColumn(\"recovered\", (col('int_total_cases') * 100 / col('int_population')))\\\n",
        "  .select('iso_code','location',(round('recovered', 2)).alias('recovered')).orderBy(col(\"recovered\").desc()).show(15)"
      ],
      "metadata": {
        "id": "HIMpEFJU2rYx",
        "colab": {
          "base_uri": "https://localhost:8080/"
        },
        "outputId": "09b2f531-c464-4e36-a4aa-8a32ccf6166a"
      },
      "execution_count": null,
      "outputs": [
        {
          "output_type": "stream",
          "name": "stdout",
          "text": [
            "+--------+----------+---------+\n",
            "|iso_code|  location|recovered|\n",
            "+--------+----------+---------+\n",
            "|     AND|   Andorra|    15.54|\n",
            "|     MNE|Montenegro|    14.52|\n",
            "|     CZE|   Czechia|    14.31|\n",
            "|     SMR|San Marino|    13.94|\n",
            "|     SVN|  Slovenia|    10.37|\n",
            "|     LUX|Luxembourg|     9.85|\n",
            "|     ISR|    Israel|     9.63|\n",
            "|     SRB|    Serbia|     8.83|\n",
            "|     BHR|   Bahrain|     8.49|\n",
            "|     PAN|    Panama|     8.23|\n",
            "|     PRT|  Portugal|     8.06|\n",
            "|     EST|   Estonia|     8.02|\n",
            "|     SWE|    Sweden|     7.97|\n",
            "|     LTU| Lithuania|     7.94|\n",
            "|     BEL|   Belgium|     7.61|\n",
            "+--------+----------+---------+\n",
            "only showing top 15 rows\n",
            "\n"
          ]
        }
      ]
    },
    {
      "cell_type": "markdown",
      "source": [
        "## SQL spark"
      ],
      "metadata": {
        "id": "IVc5w125xMvm"
      }
    },
    {
      "cell_type": "code",
      "source": [
        "# загрузка данных для кода на SQL\n",
        "df_spark.createOrReplaceTempView(\"df_spark\")"
      ],
      "metadata": {
        "id": "mXCEu5rmzRI6"
      },
      "execution_count": 19,
      "outputs": []
    },
    {
      "cell_type": "code",
      "source": [
        "spark.sql('''select \n",
        "                iso_code \n",
        "                ,location \n",
        "                ,round(total_cases * 100 /population, 2 ) as recovered\n",
        "            from df_spark\n",
        "            where date = '2021-03-31'\n",
        "            order by recovered desc; ''').show(15)"
      ],
      "metadata": {
        "colab": {
          "base_uri": "https://localhost:8080/"
        },
        "id": "2SX6HV9ruTc0",
        "outputId": "625af3f7-c201-4276-cd07-763d44a7a4dd"
      },
      "execution_count": null,
      "outputs": [
        {
          "output_type": "stream",
          "name": "stdout",
          "text": [
            "+--------+-------------+---------+\n",
            "|iso_code|     location|recovered|\n",
            "+--------+-------------+---------+\n",
            "|     AND|      Andorra|    15.54|\n",
            "|     MNE|   Montenegro|    14.52|\n",
            "|     CZE|      Czechia|    14.31|\n",
            "|     SMR|   San Marino|    13.94|\n",
            "|     SVN|     Slovenia|    10.37|\n",
            "|     LUX|   Luxembourg|     9.85|\n",
            "|     ISR|       Israel|     9.63|\n",
            "|     USA|United States|      9.2|\n",
            "|     SRB|       Serbia|     8.83|\n",
            "|     BHR|      Bahrain|     8.49|\n",
            "|     PAN|       Panama|     8.23|\n",
            "|     PRT|     Portugal|     8.06|\n",
            "|     EST|      Estonia|     8.02|\n",
            "|     SWE|       Sweden|     7.97|\n",
            "|     LTU|    Lithuania|     7.94|\n",
            "+--------+-------------+---------+\n",
            "only showing top 15 rows\n",
            "\n"
          ]
        }
      ]
    },
    {
      "cell_type": "markdown",
      "source": [
        "# 2. Top 10 стран с максимальным зафиксированным кол-вом новых случаев за последнюю неделю марта 2021 в отсортированном порядке по убыванию\n",
        "(в выходящем датасете необходимы колонки: число, страна, кол-во новых случаев)  \n",
        "### *Pandas*"
      ],
      "metadata": {
        "id": "V1DCK3mBkU01"
      }
    },
    {
      "cell_type": "code",
      "source": [
        "# covid= covid[~covid['location'].isin(['World','Europe','European Union','Asia','South America','North America'])]\n",
        "# covid.loc[(covid['date']<='2021-03-31') & (covid['date']>='2021-03-29')].groupby(['location'],as_index=False)\\\n",
        "#   .aggregate({'new_cases':'max'}).nlargest(10, 'new_cases')"
      ],
      "metadata": {
        "id": "0rBQ03sE5Uul"
      },
      "execution_count": null,
      "outputs": []
    },
    {
      "cell_type": "code",
      "source": [
        "df= covid.loc[(covid['date']>='2021-03-24') & (covid['date']<='2021-03-31')]\\\n",
        "    .groupby(['location'],as_index=False).aggregate({'new_cases':'max'})\n",
        "covid_2 = covid[['date','location','new_cases']].loc[(covid['date']>='2021-03-24') & (covid['date']<='2021-03-31')]\n",
        "new_covid = covid_2.merge( df,  how='inner', on=['location','new_cases'])\n",
        "new_covid = new_covid[~new_covid['location'].isin(['World','Europe','European Union','Asia','South America','North America','Africa'])]\n",
        "new_covid.nlargest(10, 'new_cases')\n",
        " # .filter(col('location').rlike('^[^World|^Europe|^European Union|^Asia|^South America|^North America]+$'))\\"
      ],
      "metadata": {
        "id": "2XjJBO0Pe8zr",
        "colab": {
          "base_uri": "https://localhost:8080/",
          "height": 363
        },
        "outputId": "6cbfb06b-9cc2-4e25-bfc6-c200409bf1e4"
      },
      "execution_count": null,
      "outputs": [
        {
          "output_type": "execute_result",
          "data": {
            "text/plain": [
              "           date       location  new_cases\n",
              "43   2021-03-25         Brazil   100158.0\n",
              "377  2021-03-24  United States    86960.0\n",
              "159  2021-03-31          India    72330.0\n",
              "111  2021-03-24         France    65392.0\n",
              "366  2021-03-31         Turkey    39302.0\n",
              "295  2021-03-26         Poland    35145.0\n",
              "115  2021-03-31        Germany    25014.0\n",
              "181  2021-03-26          Italy    24076.0\n",
              "293  2021-03-25           Peru    19206.0\n",
              "374  2021-03-26        Ukraine    18226.0"
            ],
            "text/html": [
              "\n",
              "  <div id=\"df-e810fe99-36d6-4497-a9f1-40188eb739a6\">\n",
              "    <div class=\"colab-df-container\">\n",
              "      <div>\n",
              "<style scoped>\n",
              "    .dataframe tbody tr th:only-of-type {\n",
              "        vertical-align: middle;\n",
              "    }\n",
              "\n",
              "    .dataframe tbody tr th {\n",
              "        vertical-align: top;\n",
              "    }\n",
              "\n",
              "    .dataframe thead th {\n",
              "        text-align: right;\n",
              "    }\n",
              "</style>\n",
              "<table border=\"1\" class=\"dataframe\">\n",
              "  <thead>\n",
              "    <tr style=\"text-align: right;\">\n",
              "      <th></th>\n",
              "      <th>date</th>\n",
              "      <th>location</th>\n",
              "      <th>new_cases</th>\n",
              "    </tr>\n",
              "  </thead>\n",
              "  <tbody>\n",
              "    <tr>\n",
              "      <th>43</th>\n",
              "      <td>2021-03-25</td>\n",
              "      <td>Brazil</td>\n",
              "      <td>100158.0</td>\n",
              "    </tr>\n",
              "    <tr>\n",
              "      <th>377</th>\n",
              "      <td>2021-03-24</td>\n",
              "      <td>United States</td>\n",
              "      <td>86960.0</td>\n",
              "    </tr>\n",
              "    <tr>\n",
              "      <th>159</th>\n",
              "      <td>2021-03-31</td>\n",
              "      <td>India</td>\n",
              "      <td>72330.0</td>\n",
              "    </tr>\n",
              "    <tr>\n",
              "      <th>111</th>\n",
              "      <td>2021-03-24</td>\n",
              "      <td>France</td>\n",
              "      <td>65392.0</td>\n",
              "    </tr>\n",
              "    <tr>\n",
              "      <th>366</th>\n",
              "      <td>2021-03-31</td>\n",
              "      <td>Turkey</td>\n",
              "      <td>39302.0</td>\n",
              "    </tr>\n",
              "    <tr>\n",
              "      <th>295</th>\n",
              "      <td>2021-03-26</td>\n",
              "      <td>Poland</td>\n",
              "      <td>35145.0</td>\n",
              "    </tr>\n",
              "    <tr>\n",
              "      <th>115</th>\n",
              "      <td>2021-03-31</td>\n",
              "      <td>Germany</td>\n",
              "      <td>25014.0</td>\n",
              "    </tr>\n",
              "    <tr>\n",
              "      <th>181</th>\n",
              "      <td>2021-03-26</td>\n",
              "      <td>Italy</td>\n",
              "      <td>24076.0</td>\n",
              "    </tr>\n",
              "    <tr>\n",
              "      <th>293</th>\n",
              "      <td>2021-03-25</td>\n",
              "      <td>Peru</td>\n",
              "      <td>19206.0</td>\n",
              "    </tr>\n",
              "    <tr>\n",
              "      <th>374</th>\n",
              "      <td>2021-03-26</td>\n",
              "      <td>Ukraine</td>\n",
              "      <td>18226.0</td>\n",
              "    </tr>\n",
              "  </tbody>\n",
              "</table>\n",
              "</div>\n",
              "      <button class=\"colab-df-convert\" onclick=\"convertToInteractive('df-e810fe99-36d6-4497-a9f1-40188eb739a6')\"\n",
              "              title=\"Convert this dataframe to an interactive table.\"\n",
              "              style=\"display:none;\">\n",
              "        \n",
              "  <svg xmlns=\"http://www.w3.org/2000/svg\" height=\"24px\"viewBox=\"0 0 24 24\"\n",
              "       width=\"24px\">\n",
              "    <path d=\"M0 0h24v24H0V0z\" fill=\"none\"/>\n",
              "    <path d=\"M18.56 5.44l.94 2.06.94-2.06 2.06-.94-2.06-.94-.94-2.06-.94 2.06-2.06.94zm-11 1L8.5 8.5l.94-2.06 2.06-.94-2.06-.94L8.5 2.5l-.94 2.06-2.06.94zm10 10l.94 2.06.94-2.06 2.06-.94-2.06-.94-.94-2.06-.94 2.06-2.06.94z\"/><path d=\"M17.41 7.96l-1.37-1.37c-.4-.4-.92-.59-1.43-.59-.52 0-1.04.2-1.43.59L10.3 9.45l-7.72 7.72c-.78.78-.78 2.05 0 2.83L4 21.41c.39.39.9.59 1.41.59.51 0 1.02-.2 1.41-.59l7.78-7.78 2.81-2.81c.8-.78.8-2.07 0-2.86zM5.41 20L4 18.59l7.72-7.72 1.47 1.35L5.41 20z\"/>\n",
              "  </svg>\n",
              "      </button>\n",
              "      \n",
              "  <style>\n",
              "    .colab-df-container {\n",
              "      display:flex;\n",
              "      flex-wrap:wrap;\n",
              "      gap: 12px;\n",
              "    }\n",
              "\n",
              "    .colab-df-convert {\n",
              "      background-color: #E8F0FE;\n",
              "      border: none;\n",
              "      border-radius: 50%;\n",
              "      cursor: pointer;\n",
              "      display: none;\n",
              "      fill: #1967D2;\n",
              "      height: 32px;\n",
              "      padding: 0 0 0 0;\n",
              "      width: 32px;\n",
              "    }\n",
              "\n",
              "    .colab-df-convert:hover {\n",
              "      background-color: #E2EBFA;\n",
              "      box-shadow: 0px 1px 2px rgba(60, 64, 67, 0.3), 0px 1px 3px 1px rgba(60, 64, 67, 0.15);\n",
              "      fill: #174EA6;\n",
              "    }\n",
              "\n",
              "    [theme=dark] .colab-df-convert {\n",
              "      background-color: #3B4455;\n",
              "      fill: #D2E3FC;\n",
              "    }\n",
              "\n",
              "    [theme=dark] .colab-df-convert:hover {\n",
              "      background-color: #434B5C;\n",
              "      box-shadow: 0px 1px 3px 1px rgba(0, 0, 0, 0.15);\n",
              "      filter: drop-shadow(0px 1px 2px rgba(0, 0, 0, 0.3));\n",
              "      fill: #FFFFFF;\n",
              "    }\n",
              "  </style>\n",
              "\n",
              "      <script>\n",
              "        const buttonEl =\n",
              "          document.querySelector('#df-e810fe99-36d6-4497-a9f1-40188eb739a6 button.colab-df-convert');\n",
              "        buttonEl.style.display =\n",
              "          google.colab.kernel.accessAllowed ? 'block' : 'none';\n",
              "\n",
              "        async function convertToInteractive(key) {\n",
              "          const element = document.querySelector('#df-e810fe99-36d6-4497-a9f1-40188eb739a6');\n",
              "          const dataTable =\n",
              "            await google.colab.kernel.invokeFunction('convertToInteractive',\n",
              "                                                     [key], {});\n",
              "          if (!dataTable) return;\n",
              "\n",
              "          const docLinkHtml = 'Like what you see? Visit the ' +\n",
              "            '<a target=\"_blank\" href=https://colab.research.google.com/notebooks/data_table.ipynb>data table notebook</a>'\n",
              "            + ' to learn more about interactive tables.';\n",
              "          element.innerHTML = '';\n",
              "          dataTable['output_type'] = 'display_data';\n",
              "          await google.colab.output.renderOutput(dataTable, element);\n",
              "          const docLink = document.createElement('div');\n",
              "          docLink.innerHTML = docLinkHtml;\n",
              "          element.appendChild(docLink);\n",
              "        }\n",
              "      </script>\n",
              "    </div>\n",
              "  </div>\n",
              "  "
            ]
          },
          "metadata": {},
          "execution_count": 160
        }
      ]
    },
    {
      "cell_type": "markdown",
      "source": [
        "### PySpark"
      ],
      "metadata": {
        "id": "PgLIdwis2wqT"
      }
    },
    {
      "cell_type": "code",
      "source": [
        "# df_1 = df_spark.filter( (col('date') >= '2021-03-24') & (col('date') <= lit('2021-03-31')) )\\\n",
        "#   .filter(~F.col(\"location\").isin(['World','Europe','European Union','Asia','South America','North America','Africa']))\\\n",
        "#   .withColumn(\"new\", col(\"new_cases\").cast(IntegerType()))\n",
        "# df_1.withColumn('new_cases', F.max('new').over(Window.partitionBy('location').orderBy('location')))\\\n",
        "#   .distinct().orderBy(col('new_cases').desc()).select('date','location','new_cases').show(10)"
      ],
      "metadata": {
        "id": "p0GJSl9z5So7"
      },
      "execution_count": null,
      "outputs": []
    },
    {
      "cell_type": "code",
      "source": [
        "df_1 = df_spark.filter( (col('date') >= lit('2021-03-24')) & (col('date') <= lit('2021-03-31')) )\\\n",
        "  .filter(~F.col(\"location\").isin(['World','Europe','European Union','Asia','South America','North America','Africa']))\\\n",
        "  .withColumn(\"new_cases\", col(\"new_cases\").cast(IntegerType()))\\\n",
        "  .groupby('location').agg(max(\"new_cases\").alias(\"new_cases\"))\n",
        "\n",
        "covid_2 = df_spark.select('date','location','new_cases')\\\n",
        "  .filter( (col('date') >= lit('2021-03-24')) & (col('date') <= lit('2021-03-31')) )\n",
        "\n",
        "new_covid = covid_2.join( df_1,  on=['location','new_cases'] , how='inner')\n",
        "new_covid = new_covid.withColumn(\"new_cases\", col(\"new_cases\").cast(IntegerType()))\n",
        "\n",
        "new_covid.select('date','location','new_cases').orderBy(col('new_cases').desc()).show(10)"
      ],
      "metadata": {
        "colab": {
          "base_uri": "https://localhost:8080/"
        },
        "id": "8huSdDrwNFsg",
        "outputId": "44cd2be2-b0e7-43d7-f666-1d8cdc25be93"
      },
      "execution_count": null,
      "outputs": [
        {
          "output_type": "stream",
          "name": "stdout",
          "text": [
            "+----------+-------------+---------+\n",
            "|      date|     location|new_cases|\n",
            "+----------+-------------+---------+\n",
            "|2021-03-25|       Brazil|   100158|\n",
            "|2021-03-24|United States|    86960|\n",
            "|2021-03-31|        India|    72330|\n",
            "|2021-03-24|       France|    65392|\n",
            "|2021-03-31|       Turkey|    39302|\n",
            "|2021-03-26|       Poland|    35145|\n",
            "|2021-03-31|      Germany|    25014|\n",
            "|2021-03-26|        Italy|    24076|\n",
            "|2021-03-25|         Peru|    19206|\n",
            "|2021-03-26|      Ukraine|    18226|\n",
            "+----------+-------------+---------+\n",
            "only showing top 10 rows\n",
            "\n"
          ]
        }
      ]
    },
    {
      "cell_type": "markdown",
      "source": [
        "## SQL spark"
      ],
      "metadata": {
        "id": "qkhV7tYY0cpT"
      }
    },
    {
      "cell_type": "code",
      "source": [
        "spark.sql('''select \n",
        "                b.date\n",
        "                ,a.location\n",
        "                ,a.new_cases\n",
        "              from (select distinct\n",
        "                      location \n",
        "                      ,max(new_cases)over(partition by location) as new_cases\n",
        "                    from (select \n",
        "                            date\n",
        "                            ,location \n",
        "                            ,cast(new_cases as int) as new_cases\n",
        "                        from df_spark\n",
        "                         where date >= '2021-03-24' and date <= '2021-03-31'\n",
        "                            and location not in ('World','Europe','European Union','Asia','South America','North America','Africa')\n",
        "                          )\n",
        "                    ) a\n",
        "              inner join \n",
        "                          (select \n",
        "                              date\n",
        "                              ,location \n",
        "                              ,cast(new_cases as int) as new_cases\n",
        "                            from df_spark\n",
        "                            where date >= '2021-03-24' and date <= '2021-03-31'\n",
        "                                and location not in ('World','Europe','European Union','Asia','South America','North America','Africa')\n",
        "                          ) b \n",
        "              on a.location = b.location and a.new_cases = b.new_cases\n",
        "              order by a.new_cases desc ;''').show(10)"
      ],
      "metadata": {
        "colab": {
          "base_uri": "https://localhost:8080/"
        },
        "id": "fKBSNOa90cz-",
        "outputId": "07bba579-1f16-4bec-8514-cb031de4bff7"
      },
      "execution_count": null,
      "outputs": [
        {
          "output_type": "stream",
          "name": "stdout",
          "text": [
            "+----------+-------------+---------+\n",
            "|      date|     location|new_cases|\n",
            "+----------+-------------+---------+\n",
            "|2021-03-25|       Brazil|   100158|\n",
            "|2021-03-24|United States|    86960|\n",
            "|2021-03-31|        India|    72330|\n",
            "|2021-03-24|       France|    65392|\n",
            "|2021-03-31|       Turkey|    39302|\n",
            "|2021-03-26|       Poland|    35145|\n",
            "|2021-03-31|      Germany|    25014|\n",
            "|2021-03-26|        Italy|    24076|\n",
            "|2021-03-25|         Peru|    19206|\n",
            "|2021-03-26|      Ukraine|    18226|\n",
            "+----------+-------------+---------+\n",
            "only showing top 10 rows\n",
            "\n"
          ]
        }
      ]
    },
    {
      "cell_type": "markdown",
      "source": [
        "# 3. Посчитайте изменение случаев относительно предыдущего дня в России за последнюю неделю марта 2021. (например: в россии вчера было 9150 , сегодня 8763, итог: -387) (в выходящем датасете необходимы колонки: число, кол-во новых случаев вчера, кол-во новых случаев сегодня, дельта)  \n",
        "### *Pandas*"
      ],
      "metadata": {
        "id": "M6N49cTAknVJ"
      }
    },
    {
      "cell_type": "code",
      "source": [
        "covid['yesterday'] = covid.loc[(covid['date']<='2021-03-31') & (covid['date']>='2021-03-24') & (covid['location'] == 'Russia'),['new_cases']]\\\n",
        "  .shift(periods=1, fill_value=0)\n",
        "covid['diffirent'] = covid['new_cases']-covid['yesterday']\n",
        "covid.loc[(covid['date']>='2021-03-25') & (covid['date']<='2021-03-31') & (covid['location'] == 'Russia'),\\\n",
        "          ['date','location','new_cases','yesterday','diffirent']]"
      ],
      "metadata": {
        "colab": {
          "base_uri": "https://localhost:8080/",
          "height": 269
        },
        "id": "pJi23DKqZcXS",
        "outputId": "2e4537eb-b699-42c0-daae-dd3290f14f9f"
      },
      "execution_count": 14,
      "outputs": [
        {
          "output_type": "execute_result",
          "data": {
            "text/plain": [
              "             date location  new_cases  yesterday  diffirent\n",
              "61387  2021-03-25   Russia     9128.0     8769.0      359.0\n",
              "61388  2021-03-26   Russia     9073.0     9128.0      -55.0\n",
              "61389  2021-03-27   Russia     8783.0     9073.0     -290.0\n",
              "61390  2021-03-28   Russia     8979.0     8783.0      196.0\n",
              "61391  2021-03-29   Russia     8589.0     8979.0     -390.0\n",
              "61392  2021-03-30   Russia     8162.0     8589.0     -427.0\n",
              "61393  2021-03-31   Russia     8156.0     8162.0       -6.0"
            ],
            "text/html": [
              "\n",
              "  <div id=\"df-e57c290a-bea0-4adc-872f-c2ec3e81b0f7\">\n",
              "    <div class=\"colab-df-container\">\n",
              "      <div>\n",
              "<style scoped>\n",
              "    .dataframe tbody tr th:only-of-type {\n",
              "        vertical-align: middle;\n",
              "    }\n",
              "\n",
              "    .dataframe tbody tr th {\n",
              "        vertical-align: top;\n",
              "    }\n",
              "\n",
              "    .dataframe thead th {\n",
              "        text-align: right;\n",
              "    }\n",
              "</style>\n",
              "<table border=\"1\" class=\"dataframe\">\n",
              "  <thead>\n",
              "    <tr style=\"text-align: right;\">\n",
              "      <th></th>\n",
              "      <th>date</th>\n",
              "      <th>location</th>\n",
              "      <th>new_cases</th>\n",
              "      <th>yesterday</th>\n",
              "      <th>diffirent</th>\n",
              "    </tr>\n",
              "  </thead>\n",
              "  <tbody>\n",
              "    <tr>\n",
              "      <th>61387</th>\n",
              "      <td>2021-03-25</td>\n",
              "      <td>Russia</td>\n",
              "      <td>9128.0</td>\n",
              "      <td>8769.0</td>\n",
              "      <td>359.0</td>\n",
              "    </tr>\n",
              "    <tr>\n",
              "      <th>61388</th>\n",
              "      <td>2021-03-26</td>\n",
              "      <td>Russia</td>\n",
              "      <td>9073.0</td>\n",
              "      <td>9128.0</td>\n",
              "      <td>-55.0</td>\n",
              "    </tr>\n",
              "    <tr>\n",
              "      <th>61389</th>\n",
              "      <td>2021-03-27</td>\n",
              "      <td>Russia</td>\n",
              "      <td>8783.0</td>\n",
              "      <td>9073.0</td>\n",
              "      <td>-290.0</td>\n",
              "    </tr>\n",
              "    <tr>\n",
              "      <th>61390</th>\n",
              "      <td>2021-03-28</td>\n",
              "      <td>Russia</td>\n",
              "      <td>8979.0</td>\n",
              "      <td>8783.0</td>\n",
              "      <td>196.0</td>\n",
              "    </tr>\n",
              "    <tr>\n",
              "      <th>61391</th>\n",
              "      <td>2021-03-29</td>\n",
              "      <td>Russia</td>\n",
              "      <td>8589.0</td>\n",
              "      <td>8979.0</td>\n",
              "      <td>-390.0</td>\n",
              "    </tr>\n",
              "    <tr>\n",
              "      <th>61392</th>\n",
              "      <td>2021-03-30</td>\n",
              "      <td>Russia</td>\n",
              "      <td>8162.0</td>\n",
              "      <td>8589.0</td>\n",
              "      <td>-427.0</td>\n",
              "    </tr>\n",
              "    <tr>\n",
              "      <th>61393</th>\n",
              "      <td>2021-03-31</td>\n",
              "      <td>Russia</td>\n",
              "      <td>8156.0</td>\n",
              "      <td>8162.0</td>\n",
              "      <td>-6.0</td>\n",
              "    </tr>\n",
              "  </tbody>\n",
              "</table>\n",
              "</div>\n",
              "      <button class=\"colab-df-convert\" onclick=\"convertToInteractive('df-e57c290a-bea0-4adc-872f-c2ec3e81b0f7')\"\n",
              "              title=\"Convert this dataframe to an interactive table.\"\n",
              "              style=\"display:none;\">\n",
              "        \n",
              "  <svg xmlns=\"http://www.w3.org/2000/svg\" height=\"24px\"viewBox=\"0 0 24 24\"\n",
              "       width=\"24px\">\n",
              "    <path d=\"M0 0h24v24H0V0z\" fill=\"none\"/>\n",
              "    <path d=\"M18.56 5.44l.94 2.06.94-2.06 2.06-.94-2.06-.94-.94-2.06-.94 2.06-2.06.94zm-11 1L8.5 8.5l.94-2.06 2.06-.94-2.06-.94L8.5 2.5l-.94 2.06-2.06.94zm10 10l.94 2.06.94-2.06 2.06-.94-2.06-.94-.94-2.06-.94 2.06-2.06.94z\"/><path d=\"M17.41 7.96l-1.37-1.37c-.4-.4-.92-.59-1.43-.59-.52 0-1.04.2-1.43.59L10.3 9.45l-7.72 7.72c-.78.78-.78 2.05 0 2.83L4 21.41c.39.39.9.59 1.41.59.51 0 1.02-.2 1.41-.59l7.78-7.78 2.81-2.81c.8-.78.8-2.07 0-2.86zM5.41 20L4 18.59l7.72-7.72 1.47 1.35L5.41 20z\"/>\n",
              "  </svg>\n",
              "      </button>\n",
              "      \n",
              "  <style>\n",
              "    .colab-df-container {\n",
              "      display:flex;\n",
              "      flex-wrap:wrap;\n",
              "      gap: 12px;\n",
              "    }\n",
              "\n",
              "    .colab-df-convert {\n",
              "      background-color: #E8F0FE;\n",
              "      border: none;\n",
              "      border-radius: 50%;\n",
              "      cursor: pointer;\n",
              "      display: none;\n",
              "      fill: #1967D2;\n",
              "      height: 32px;\n",
              "      padding: 0 0 0 0;\n",
              "      width: 32px;\n",
              "    }\n",
              "\n",
              "    .colab-df-convert:hover {\n",
              "      background-color: #E2EBFA;\n",
              "      box-shadow: 0px 1px 2px rgba(60, 64, 67, 0.3), 0px 1px 3px 1px rgba(60, 64, 67, 0.15);\n",
              "      fill: #174EA6;\n",
              "    }\n",
              "\n",
              "    [theme=dark] .colab-df-convert {\n",
              "      background-color: #3B4455;\n",
              "      fill: #D2E3FC;\n",
              "    }\n",
              "\n",
              "    [theme=dark] .colab-df-convert:hover {\n",
              "      background-color: #434B5C;\n",
              "      box-shadow: 0px 1px 3px 1px rgba(0, 0, 0, 0.15);\n",
              "      filter: drop-shadow(0px 1px 2px rgba(0, 0, 0, 0.3));\n",
              "      fill: #FFFFFF;\n",
              "    }\n",
              "  </style>\n",
              "\n",
              "      <script>\n",
              "        const buttonEl =\n",
              "          document.querySelector('#df-e57c290a-bea0-4adc-872f-c2ec3e81b0f7 button.colab-df-convert');\n",
              "        buttonEl.style.display =\n",
              "          google.colab.kernel.accessAllowed ? 'block' : 'none';\n",
              "\n",
              "        async function convertToInteractive(key) {\n",
              "          const element = document.querySelector('#df-e57c290a-bea0-4adc-872f-c2ec3e81b0f7');\n",
              "          const dataTable =\n",
              "            await google.colab.kernel.invokeFunction('convertToInteractive',\n",
              "                                                     [key], {});\n",
              "          if (!dataTable) return;\n",
              "\n",
              "          const docLinkHtml = 'Like what you see? Visit the ' +\n",
              "            '<a target=\"_blank\" href=https://colab.research.google.com/notebooks/data_table.ipynb>data table notebook</a>'\n",
              "            + ' to learn more about interactive tables.';\n",
              "          element.innerHTML = '';\n",
              "          dataTable['output_type'] = 'display_data';\n",
              "          await google.colab.output.renderOutput(dataTable, element);\n",
              "          const docLink = document.createElement('div');\n",
              "          docLink.innerHTML = docLinkHtml;\n",
              "          element.appendChild(docLink);\n",
              "        }\n",
              "      </script>\n",
              "    </div>\n",
              "  </div>\n",
              "  "
            ]
          },
          "metadata": {},
          "execution_count": 14
        }
      ]
    },
    {
      "cell_type": "markdown",
      "source": [
        "### PySpark"
      ],
      "metadata": {
        "id": "FwaNmZ3t2y1j"
      }
    },
    {
      "cell_type": "code",
      "source": [
        "df_3 = df_spark.withColumn('yesterday', F.lag('new_cases',1).over(Window.partitionBy('location').orderBy('date')))\\\n",
        ".filter( (col('date') >= '2021-03-25') & (col('date') <= '2021-03-31') )"
      ],
      "metadata": {
        "id": "JQkDtToi3Ay0"
      },
      "execution_count": 15,
      "outputs": []
    },
    {
      "cell_type": "code",
      "source": [
        "df_3 = df_3.withColumn('diffirent', col('new_cases') - col('yesterday'))"
      ],
      "metadata": {
        "id": "w7ZPHlqhzDuK"
      },
      "execution_count": 16,
      "outputs": []
    },
    {
      "cell_type": "code",
      "source": [
        "df_3.filter(col('location') == 'Russia').select('date','location','new_cases','yesterday','diffirent').show()"
      ],
      "metadata": {
        "colab": {
          "base_uri": "https://localhost:8080/"
        },
        "id": "PxuGO5buzIxa",
        "outputId": "89109771-2365-434d-eeef-42cc08dfb171"
      },
      "execution_count": 17,
      "outputs": [
        {
          "output_type": "stream",
          "name": "stdout",
          "text": [
            "+----------+--------+---------+---------+---------+\n",
            "|      date|location|new_cases|yesterday|diffirent|\n",
            "+----------+--------+---------+---------+---------+\n",
            "|2021-03-25|  Russia|   9128.0|   8769.0|    359.0|\n",
            "|2021-03-26|  Russia|   9073.0|   9128.0|    -55.0|\n",
            "|2021-03-27|  Russia|   8783.0|   9073.0|   -290.0|\n",
            "|2021-03-28|  Russia|   8979.0|   8783.0|    196.0|\n",
            "|2021-03-29|  Russia|   8589.0|   8979.0|   -390.0|\n",
            "|2021-03-30|  Russia|   8162.0|   8589.0|   -427.0|\n",
            "|2021-03-31|  Russia|   8156.0|   8162.0|     -6.0|\n",
            "+----------+--------+---------+---------+---------+\n",
            "\n"
          ]
        }
      ]
    },
    {
      "cell_type": "markdown",
      "source": [
        "## SQL spark"
      ],
      "metadata": {
        "id": "ftsSK69VEnuC"
      }
    },
    {
      "cell_type": "code",
      "source": [
        "spark.sql('''select \n",
        "                b.date\n",
        "                ,a.location\n",
        "                ,a.new_cases\n",
        "                ,yesterday\n",
        "                ,b.new_cases - yesterday as diffirent\n",
        "              from (select \n",
        "                        date\n",
        "                        ,location\n",
        "                        ,new_cases \n",
        "                        ,lag(new_cases)over(partition by location order by date) as yesterday\n",
        "                    from df_spark\n",
        "                    where date >='2021-03-24' and date <= '2021-03-31' and location = 'Russia'\n",
        "                    ) a\n",
        "              inner join df_spark b \n",
        "              on a.location = b.location and a.date = b.date\n",
        "              where b.date >= '2021-03-25' and b.date <= '2021-03-31'\n",
        "              order by date ;''').show(10)"
      ],
      "metadata": {
        "colab": {
          "base_uri": "https://localhost:8080/"
        },
        "id": "u3UZBOt01jrD",
        "outputId": "6ad04301-7931-42d5-da99-32be678ec6b0"
      },
      "execution_count": 20,
      "outputs": [
        {
          "output_type": "stream",
          "name": "stdout",
          "text": [
            "+----------+--------+---------+---------+---------+\n",
            "|      date|location|new_cases|yesterday|diffirent|\n",
            "+----------+--------+---------+---------+---------+\n",
            "|2021-03-25|  Russia|   9128.0|   8769.0|    359.0|\n",
            "|2021-03-26|  Russia|   9073.0|   9128.0|    -55.0|\n",
            "|2021-03-27|  Russia|   8783.0|   9073.0|   -290.0|\n",
            "|2021-03-28|  Russia|   8979.0|   8783.0|    196.0|\n",
            "|2021-03-29|  Russia|   8589.0|   8979.0|   -390.0|\n",
            "|2021-03-30|  Russia|   8162.0|   8589.0|   -427.0|\n",
            "|2021-03-31|  Russia|   8156.0|   8162.0|     -6.0|\n",
            "+----------+--------+---------+---------+---------+\n",
            "\n"
          ]
        }
      ]
    },
    {
      "cell_type": "code",
      "source": [
        ""
      ],
      "metadata": {
        "id": "bWJh-4Clt9lz"
      },
      "execution_count": null,
      "outputs": []
    }
  ]
}